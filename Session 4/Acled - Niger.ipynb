{
 "cells": [
  {
   "cell_type": "code",
   "execution_count": 1,
   "metadata": {},
   "outputs": [],
   "source": [
    "#import libraries\n",
    "import requests\n",
    "from datetime import datetime as dt\n",
    "from datetime import timedelta\n",
    "import pandas as pd\n"
   ]
  },
  {
   "cell_type": "code",
   "execution_count": 2,
   "metadata": {},
   "outputs": [
    {
     "name": "stdout",
     "output_type": "stream",
     "text": [
      "https://api.acleddata.com/acled/read?terms=accept&iso=562 <class 'str'>\n"
     ]
    }
   ],
   "source": [
    "# get events from n days ago\n",
    "iso = 562 #Look in ACLED documentation ISO code for number this is for Niger\n",
    "limit = 400\n",
    "\n",
    "api_url = 'https://api.acleddata.com/acled/read?terms=accept&iso={}'.format(iso)\n",
    "print (api_url, type(api_url)) #creates request according to ACLED format specifications - p. 13"
   ]
  },
  {
   "cell_type": "code",
   "execution_count": 3,
   "metadata": {},
   "outputs": [
    {
     "data": {
      "text/plain": [
       "500"
      ]
     },
     "execution_count": 3,
     "metadata": {},
     "output_type": "execute_result"
    }
   ],
   "source": [
    "response = requests.get(api_url)\n",
    "data = response.json()\n",
    "data.keys()\n",
    "data['count']"
   ]
  },
  {
   "cell_type": "markdown",
   "metadata": {},
   "source": [
    "### From the documentation we know this is the max return --- How can we get all the results?"
   ]
  },
  {
   "cell_type": "code",
   "execution_count": 4,
   "metadata": {},
   "outputs": [],
   "source": [
    "# Let's mkae a function that updates our search to get the new pages\n",
    "\n",
    "def ping_acled(api_url): \n",
    "    '''\n",
    "    Takes one parameter search term for API\n",
    "    '''\n",
    "    \n",
    "    response = requests.get(api_url)\n",
    "    data = response.json()\n",
    "    return data\n",
    "    "
   ]
  },
  {
   "cell_type": "code",
   "execution_count": 5,
   "metadata": {},
   "outputs": [
    {
     "name": "stdout",
     "output_type": "stream",
     "text": [
      "starting  1   500\n",
      "Total Results  500\n",
      "starting  2   500\n",
      "Total Results  1000\n",
      "starting  3   500\n",
      "Total Results  1388\n"
     ]
    }
   ],
   "source": [
    "\n",
    "results = [] # empty data strcture to store results\n",
    "num_results = 500 # condition to continue adding pages\n",
    "count = 0  # tracker of results\n",
    "page = 1 #Per the documentation each page will give us more results\n",
    "\n",
    "while num_results == 500: #if less 500 or 0 we know we have all the results\n",
    "    print (\"starting \", page, \" \", num_results) #just to see our progress\n",
    "    api_url = 'https://api.acleddata.com/acled/read?terms=accept&iso={}&page={}'.format(iso,page) #the search\n",
    "    data = ping_acled(api_url) #call the previous function \n",
    "    results.append(data['data']) #store in our results\n",
    "    count += data['count'] #Track number of results\n",
    "    num_results = data['count'] #update our condition\n",
    "    page += 1 #update our page variable\n",
    "    print (\"Total Results \", count) #Track our progress\n",
    "    \n",
    "\n"
   ]
  },
  {
   "cell_type": "code",
   "execution_count": 6,
   "metadata": {},
   "outputs": [
    {
     "name": "stdout",
     "output_type": "stream",
     "text": [
      "500\n",
      "1000\n",
      "1388\n"
     ]
    }
   ],
   "source": [
    "#Now I want to put them together into one giant result\n",
    "super_list = []\n",
    "for res in results: \n",
    "    super_list += res\n",
    "    print (len(super_list))"
   ]
  },
  {
   "cell_type": "code",
   "execution_count": 7,
   "metadata": {},
   "outputs": [
    {
     "data": {
      "text/html": [
       "<div>\n",
       "<style scoped>\n",
       "    .dataframe tbody tr th:only-of-type {\n",
       "        vertical-align: middle;\n",
       "    }\n",
       "\n",
       "    .dataframe tbody tr th {\n",
       "        vertical-align: top;\n",
       "    }\n",
       "\n",
       "    .dataframe thead th {\n",
       "        text-align: right;\n",
       "    }\n",
       "</style>\n",
       "<table border=\"1\" class=\"dataframe\">\n",
       "  <thead>\n",
       "    <tr style=\"text-align: right;\">\n",
       "      <th></th>\n",
       "      <th>data_id</th>\n",
       "      <th>iso</th>\n",
       "      <th>event_id_cnty</th>\n",
       "      <th>event_id_no_cnty</th>\n",
       "      <th>event_date</th>\n",
       "      <th>year</th>\n",
       "      <th>time_precision</th>\n",
       "      <th>event_type</th>\n",
       "      <th>sub_event_type</th>\n",
       "      <th>actor1</th>\n",
       "      <th>...</th>\n",
       "      <th>location</th>\n",
       "      <th>latitude</th>\n",
       "      <th>longitude</th>\n",
       "      <th>geo_precision</th>\n",
       "      <th>source</th>\n",
       "      <th>source_scale</th>\n",
       "      <th>notes</th>\n",
       "      <th>fatalities</th>\n",
       "      <th>timestamp</th>\n",
       "      <th>iso3</th>\n",
       "    </tr>\n",
       "  </thead>\n",
       "  <tbody>\n",
       "    <tr>\n",
       "      <th>0</th>\n",
       "      <td>7202641</td>\n",
       "      <td>562</td>\n",
       "      <td>NIR1440</td>\n",
       "      <td>1440</td>\n",
       "      <td>2020-09-12</td>\n",
       "      <td>2020</td>\n",
       "      <td>1</td>\n",
       "      <td>Explosions/Remote violence</td>\n",
       "      <td>Air/drone strike</td>\n",
       "      <td>Military Forces of France (2017-)</td>\n",
       "      <td>...</td>\n",
       "      <td>Garey Akoukou</td>\n",
       "      <td>14.7702</td>\n",
       "      <td>1.1053</td>\n",
       "      <td>2</td>\n",
       "      <td>Undisclosed Source</td>\n",
       "      <td>Local partner-Other</td>\n",
       "      <td>On 12 September 2020, French Operation Barkhan...</td>\n",
       "      <td>10</td>\n",
       "      <td>1600112998</td>\n",
       "      <td>NER</td>\n",
       "    </tr>\n",
       "    <tr>\n",
       "      <th>1</th>\n",
       "      <td>7202167</td>\n",
       "      <td>562</td>\n",
       "      <td>NIR1439</td>\n",
       "      <td>1439</td>\n",
       "      <td>2020-09-12</td>\n",
       "      <td>2020</td>\n",
       "      <td>1</td>\n",
       "      <td>Battles</td>\n",
       "      <td>Armed clash</td>\n",
       "      <td>Unidentified Armed Group (Niger)</td>\n",
       "      <td>...</td>\n",
       "      <td>Assamakka</td>\n",
       "      <td>19.3667</td>\n",
       "      <td>5.8000</td>\n",
       "      <td>2</td>\n",
       "      <td>Twitter; Undisclosed Source; Tadress24info; L'...</td>\n",
       "      <td>Local partner-Other</td>\n",
       "      <td>On 12 September 2020, unknown gunmen attacked ...</td>\n",
       "      <td>2</td>\n",
       "      <td>1600112997</td>\n",
       "      <td>NER</td>\n",
       "    </tr>\n",
       "    <tr>\n",
       "      <th>2</th>\n",
       "      <td>7202611</td>\n",
       "      <td>562</td>\n",
       "      <td>NIR1438</td>\n",
       "      <td>1438</td>\n",
       "      <td>2020-09-10</td>\n",
       "      <td>2020</td>\n",
       "      <td>1</td>\n",
       "      <td>Battles</td>\n",
       "      <td>Armed clash</td>\n",
       "      <td>Unidentified Armed Group (Niger)</td>\n",
       "      <td>...</td>\n",
       "      <td>Dao Timi</td>\n",
       "      <td>20.5575</td>\n",
       "      <td>13.5403</td>\n",
       "      <td>2</td>\n",
       "      <td>Tadress24info</td>\n",
       "      <td>New media</td>\n",
       "      <td>On 10 September 2020, unknown gunmen and the N...</td>\n",
       "      <td>0</td>\n",
       "      <td>1600112998</td>\n",
       "      <td>NER</td>\n",
       "    </tr>\n",
       "    <tr>\n",
       "      <th>3</th>\n",
       "      <td>7202678</td>\n",
       "      <td>562</td>\n",
       "      <td>NIR1437</td>\n",
       "      <td>1437</td>\n",
       "      <td>2020-09-09</td>\n",
       "      <td>2020</td>\n",
       "      <td>1</td>\n",
       "      <td>Violence against civilians</td>\n",
       "      <td>Abduction/forced disappearance</td>\n",
       "      <td>Unidentified Armed Group (Niger)</td>\n",
       "      <td>...</td>\n",
       "      <td>El Guidi</td>\n",
       "      <td>13.4580</td>\n",
       "      <td>6.6906</td>\n",
       "      <td>2</td>\n",
       "      <td>Whatsapp</td>\n",
       "      <td>New media</td>\n",
       "      <td>On 9 September 2020, unknown gunmen abducted a...</td>\n",
       "      <td>0</td>\n",
       "      <td>1600112998</td>\n",
       "      <td>NER</td>\n",
       "    </tr>\n",
       "    <tr>\n",
       "      <th>4</th>\n",
       "      <td>7202677</td>\n",
       "      <td>562</td>\n",
       "      <td>NIR1434</td>\n",
       "      <td>1434</td>\n",
       "      <td>2020-09-08</td>\n",
       "      <td>2020</td>\n",
       "      <td>1</td>\n",
       "      <td>Battles</td>\n",
       "      <td>Armed clash</td>\n",
       "      <td>Boko Haram - Jamatu Ahli is-Sunnah lid-Dawatai...</td>\n",
       "      <td>...</td>\n",
       "      <td>Baroua Gana</td>\n",
       "      <td>13.8986</td>\n",
       "      <td>13.1544</td>\n",
       "      <td>2</td>\n",
       "      <td>Whatsapp</td>\n",
       "      <td>New media</td>\n",
       "      <td>On 8 September 2020, Boko Haram (JAS) and ISWA...</td>\n",
       "      <td>10</td>\n",
       "      <td>1600112998</td>\n",
       "      <td>NER</td>\n",
       "    </tr>\n",
       "  </tbody>\n",
       "</table>\n",
       "<p>5 rows × 31 columns</p>\n",
       "</div>"
      ],
      "text/plain": [
       "   data_id  iso event_id_cnty event_id_no_cnty  event_date  year  \\\n",
       "0  7202641  562       NIR1440             1440  2020-09-12  2020   \n",
       "1  7202167  562       NIR1439             1439  2020-09-12  2020   \n",
       "2  7202611  562       NIR1438             1438  2020-09-10  2020   \n",
       "3  7202678  562       NIR1437             1437  2020-09-09  2020   \n",
       "4  7202677  562       NIR1434             1434  2020-09-08  2020   \n",
       "\n",
       "  time_precision                  event_type                  sub_event_type  \\\n",
       "0              1  Explosions/Remote violence                Air/drone strike   \n",
       "1              1                     Battles                     Armed clash   \n",
       "2              1                     Battles                     Armed clash   \n",
       "3              1  Violence against civilians  Abduction/forced disappearance   \n",
       "4              1                     Battles                     Armed clash   \n",
       "\n",
       "                                              actor1  ...       location  \\\n",
       "0                  Military Forces of France (2017-)  ...  Garey Akoukou   \n",
       "1                   Unidentified Armed Group (Niger)  ...      Assamakka   \n",
       "2                   Unidentified Armed Group (Niger)  ...       Dao Timi   \n",
       "3                   Unidentified Armed Group (Niger)  ...       El Guidi   \n",
       "4  Boko Haram - Jamatu Ahli is-Sunnah lid-Dawatai...  ...    Baroua Gana   \n",
       "\n",
       "  latitude longitude geo_precision  \\\n",
       "0  14.7702    1.1053             2   \n",
       "1  19.3667    5.8000             2   \n",
       "2  20.5575   13.5403             2   \n",
       "3  13.4580    6.6906             2   \n",
       "4  13.8986   13.1544             2   \n",
       "\n",
       "                                              source         source_scale  \\\n",
       "0                                 Undisclosed Source  Local partner-Other   \n",
       "1  Twitter; Undisclosed Source; Tadress24info; L'...  Local partner-Other   \n",
       "2                                      Tadress24info            New media   \n",
       "3                                           Whatsapp            New media   \n",
       "4                                           Whatsapp            New media   \n",
       "\n",
       "                                               notes fatalities   timestamp  \\\n",
       "0  On 12 September 2020, French Operation Barkhan...         10  1600112998   \n",
       "1  On 12 September 2020, unknown gunmen attacked ...          2  1600112997   \n",
       "2  On 10 September 2020, unknown gunmen and the N...          0  1600112998   \n",
       "3  On 9 September 2020, unknown gunmen abducted a...          0  1600112998   \n",
       "4  On 8 September 2020, Boko Haram (JAS) and ISWA...         10  1600112998   \n",
       "\n",
       "  iso3  \n",
       "0  NER  \n",
       "1  NER  \n",
       "2  NER  \n",
       "3  NER  \n",
       "4  NER  \n",
       "\n",
       "[5 rows x 31 columns]"
      ]
     },
     "execution_count": 7,
     "metadata": {},
     "output_type": "execute_result"
    }
   ],
   "source": [
    "#convert it into an pandas data frame or just use your data structure and do more stuff\n",
    "niger_res = pd.DataFrame(super_list)\n",
    "niger_res.head()"
   ]
  },
  {
   "cell_type": "markdown",
   "metadata": {},
   "source": [
    "### Do the right thing, take some time to look at the codebook and see what these columns are"
   ]
  },
  {
   "cell_type": "code",
   "execution_count": 8,
   "metadata": {},
   "outputs": [
    {
     "data": {
      "text/plain": [
       "Index(['data_id', 'iso', 'event_id_cnty', 'event_id_no_cnty', 'event_date',\n",
       "       'year', 'time_precision', 'event_type', 'sub_event_type', 'actor1',\n",
       "       'assoc_actor_1', 'inter1', 'actor2', 'assoc_actor_2', 'inter2',\n",
       "       'interaction', 'region', 'country', 'admin1', 'admin2', 'admin3',\n",
       "       'location', 'latitude', 'longitude', 'geo_precision', 'source',\n",
       "       'source_scale', 'notes', 'fatalities', 'timestamp', 'iso3'],\n",
       "      dtype='object')"
      ]
     },
     "execution_count": 8,
     "metadata": {},
     "output_type": "execute_result"
    }
   ],
   "source": [
    "niger_res.columns\n"
   ]
  },
  {
   "cell_type": "markdown",
   "metadata": {},
   "source": [
    "### Homework --- Make a map of some ACLED Data (absolutely use the code from the Global Terrorism Database exercise)"
   ]
  },
  {
   "cell_type": "code",
   "execution_count": null,
   "metadata": {},
   "outputs": [],
   "source": []
  }
 ],
 "metadata": {
  "kernelspec": {
   "display_name": "Python 3",
   "language": "python",
   "name": "python3"
  },
  "language_info": {
   "codemirror_mode": {
    "name": "ipython",
    "version": 3
   },
   "file_extension": ".py",
   "mimetype": "text/x-python",
   "name": "python",
   "nbconvert_exporter": "python",
   "pygments_lexer": "ipython3",
   "version": "3.8.3"
  }
 },
 "nbformat": 4,
 "nbformat_minor": 2
}
