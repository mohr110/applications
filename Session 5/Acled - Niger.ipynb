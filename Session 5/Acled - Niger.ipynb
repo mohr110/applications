{
 "cells": [
  {
   "cell_type": "code",
   "execution_count": 52,
   "metadata": {},
   "outputs": [],
   "source": [
    "#import libraries\n",
    "import requests\n",
    "from datetime import datetime as dt\n",
    "from datetime import timedelta\n",
    "import pandas as pd"
   ]
  },
  {
   "cell_type": "code",
   "execution_count": 53,
   "metadata": {},
   "outputs": [
    {
     "name": "stdout",
     "output_type": "stream",
     "text": [
      "https://api.acleddata.com/acled/read?terms=accept&iso=504 <class 'str'>\n"
     ]
    }
   ],
   "source": [
    "# get events from n days ago\n",
    "iso = 504 #Pike - changed the ISO code to download data for Morocco instead of Niger\n",
    "limit = 400\n",
    "\n",
    "api_url = 'https://api.acleddata.com/acled/read?terms=accept&iso={}'.format(iso)\n",
    "print (api_url, type(api_url)) #creates request according to ACLED format specifications - p. 13"
   ]
  },
  {
   "cell_type": "code",
   "execution_count": 54,
   "metadata": {},
   "outputs": [
    {
     "data": {
      "text/plain": [
       "500"
      ]
     },
     "execution_count": 54,
     "metadata": {},
     "output_type": "execute_result"
    }
   ],
   "source": [
    "response = requests.get(api_url)\n",
    "data = response.json()\n",
    "data.keys()\n",
    "data['count']"
   ]
  },
  {
   "cell_type": "markdown",
   "metadata": {},
   "source": [
    "### From the documentation we know this is the max return --- How can we get all the results?"
   ]
  },
  {
   "cell_type": "code",
   "execution_count": 55,
   "metadata": {},
   "outputs": [],
   "source": [
    "# Let's mkae a function that updates our search to get the new pages\n",
    "\n",
    "def ping_acled(api_url): \n",
    "    '''\n",
    "    Takes one parameter search term for API\n",
    "    '''\n",
    "    \n",
    "    response = requests.get(api_url)\n",
    "    data = response.json()\n",
    "    return data\n",
    "    "
   ]
  },
  {
   "cell_type": "code",
   "execution_count": 56,
   "metadata": {},
   "outputs": [
    {
     "name": "stdout",
     "output_type": "stream",
     "text": [
      "starting  1   500\n",
      "Total Results  500\n",
      "starting  2   500\n",
      "Total Results  1000\n",
      "starting  3   500\n",
      "Total Results  1500\n",
      "starting  4   500\n",
      "Total Results  2000\n",
      "starting  5   500\n",
      "Total Results  2500\n",
      "starting  6   500\n",
      "Total Results  3000\n",
      "starting  7   500\n",
      "Total Results  3070\n"
     ]
    }
   ],
   "source": [
    "\n",
    "results = [] # empty data strcture to store results\n",
    "num_results = 500 # condition to continue adding pages\n",
    "count = 0  # tracker of results\n",
    "page = 1 #Per the documentation each page will give us more results\n",
    "\n",
    "while num_results == 500: #if less 500 or 0 we know we have all the results\n",
    "    print (\"starting \", page, \" \", num_results) #just to see our progress\n",
    "    api_url = 'https://api.acleddata.com/acled/read?terms=accept&iso={}&page={}'.format(iso,page) #the search\n",
    "    data = ping_acled(api_url) #call the previous function \n",
    "    results.append(data['data']) #store in our results\n",
    "    count += data['count'] #Track number of results\n",
    "    num_results = data['count'] #update our condition\n",
    "    page += 1 #update our page variable\n",
    "    print (\"Total Results \", count) #Track our progress\n",
    "    \n",
    "\n"
   ]
  },
  {
   "cell_type": "code",
   "execution_count": 57,
   "metadata": {},
   "outputs": [
    {
     "name": "stdout",
     "output_type": "stream",
     "text": [
      "500\n",
      "1000\n",
      "1500\n",
      "2000\n",
      "2500\n",
      "3000\n",
      "3070\n"
     ]
    }
   ],
   "source": [
    "#Now I want to put them together into one giant result\n",
    "super_list = []\n",
    "for res in results: \n",
    "    super_list += res\n",
    "    print (len(super_list))"
   ]
  },
  {
   "cell_type": "code",
   "execution_count": 58,
   "metadata": {},
   "outputs": [
    {
     "data": {
      "text/html": [
       "<div>\n",
       "<style scoped>\n",
       "    .dataframe tbody tr th:only-of-type {\n",
       "        vertical-align: middle;\n",
       "    }\n",
       "\n",
       "    .dataframe tbody tr th {\n",
       "        vertical-align: top;\n",
       "    }\n",
       "\n",
       "    .dataframe thead th {\n",
       "        text-align: right;\n",
       "    }\n",
       "</style>\n",
       "<table border=\"1\" class=\"dataframe\">\n",
       "  <thead>\n",
       "    <tr style=\"text-align: right;\">\n",
       "      <th></th>\n",
       "      <th>data_id</th>\n",
       "      <th>iso</th>\n",
       "      <th>event_id_cnty</th>\n",
       "      <th>event_id_no_cnty</th>\n",
       "      <th>event_date</th>\n",
       "      <th>year</th>\n",
       "      <th>time_precision</th>\n",
       "      <th>event_type</th>\n",
       "      <th>sub_event_type</th>\n",
       "      <th>actor1</th>\n",
       "      <th>...</th>\n",
       "      <th>location</th>\n",
       "      <th>latitude</th>\n",
       "      <th>longitude</th>\n",
       "      <th>geo_precision</th>\n",
       "      <th>source</th>\n",
       "      <th>source_scale</th>\n",
       "      <th>notes</th>\n",
       "      <th>fatalities</th>\n",
       "      <th>timestamp</th>\n",
       "      <th>iso3</th>\n",
       "    </tr>\n",
       "  </thead>\n",
       "  <tbody>\n",
       "    <tr>\n",
       "      <th>0</th>\n",
       "      <td>7227931</td>\n",
       "      <td>504</td>\n",
       "      <td>MOR3240</td>\n",
       "      <td>3240</td>\n",
       "      <td>2020-09-18</td>\n",
       "      <td>2020</td>\n",
       "      <td>1</td>\n",
       "      <td>Protests</td>\n",
       "      <td>Peaceful protest</td>\n",
       "      <td>Protesters (Morocco)</td>\n",
       "      <td>...</td>\n",
       "      <td>El Kelaa des Sraghna</td>\n",
       "      <td>32.0512</td>\n",
       "      <td>-7.4108</td>\n",
       "      <td>1</td>\n",
       "      <td>Le Site Info</td>\n",
       "      <td>National</td>\n",
       "      <td>On 18 September 2020, hundreds of merchants he...</td>\n",
       "      <td>0</td>\n",
       "      <td>1600717737</td>\n",
       "      <td>MAR</td>\n",
       "    </tr>\n",
       "    <tr>\n",
       "      <th>1</th>\n",
       "      <td>7227739</td>\n",
       "      <td>504</td>\n",
       "      <td>MOR3243</td>\n",
       "      <td>3243</td>\n",
       "      <td>2020-09-18</td>\n",
       "      <td>2020</td>\n",
       "      <td>1</td>\n",
       "      <td>Protests</td>\n",
       "      <td>Peaceful protest</td>\n",
       "      <td>Protesters (Morocco)</td>\n",
       "      <td>...</td>\n",
       "      <td>Midelt</td>\n",
       "      <td>32.6811</td>\n",
       "      <td>-4.7296</td>\n",
       "      <td>2</td>\n",
       "      <td>Achkayen</td>\n",
       "      <td>National</td>\n",
       "      <td>On 18 September 2020, 300 members of the Tanou...</td>\n",
       "      <td>0</td>\n",
       "      <td>1600717736</td>\n",
       "      <td>MAR</td>\n",
       "    </tr>\n",
       "    <tr>\n",
       "      <th>2</th>\n",
       "      <td>7228082</td>\n",
       "      <td>504</td>\n",
       "      <td>MOR3239</td>\n",
       "      <td>3239</td>\n",
       "      <td>2020-09-18</td>\n",
       "      <td>2020</td>\n",
       "      <td>1</td>\n",
       "      <td>Protests</td>\n",
       "      <td>Peaceful protest</td>\n",
       "      <td>Protesters (Morocco)</td>\n",
       "      <td>...</td>\n",
       "      <td>Bounaamane</td>\n",
       "      <td>29.5313</td>\n",
       "      <td>-9.8135</td>\n",
       "      <td>1</td>\n",
       "      <td>Tiznit Press</td>\n",
       "      <td>Subnational</td>\n",
       "      <td>On 18 September 2020, residents of the village...</td>\n",
       "      <td>0</td>\n",
       "      <td>1600717737</td>\n",
       "      <td>MAR</td>\n",
       "    </tr>\n",
       "    <tr>\n",
       "      <th>3</th>\n",
       "      <td>7227880</td>\n",
       "      <td>504</td>\n",
       "      <td>MOR3241</td>\n",
       "      <td>3241</td>\n",
       "      <td>2020-09-18</td>\n",
       "      <td>2020</td>\n",
       "      <td>2</td>\n",
       "      <td>Protests</td>\n",
       "      <td>Peaceful protest</td>\n",
       "      <td>Protesters (Morocco)</td>\n",
       "      <td>...</td>\n",
       "      <td>Kenitra</td>\n",
       "      <td>34.2610</td>\n",
       "      <td>-6.5802</td>\n",
       "      <td>1</td>\n",
       "      <td>Hespress</td>\n",
       "      <td>National</td>\n",
       "      <td>Around 18 September 2020 (as reported), reside...</td>\n",
       "      <td>0</td>\n",
       "      <td>1600717737</td>\n",
       "      <td>MAR</td>\n",
       "    </tr>\n",
       "    <tr>\n",
       "      <th>4</th>\n",
       "      <td>7227882</td>\n",
       "      <td>504</td>\n",
       "      <td>MOR3242</td>\n",
       "      <td>3242</td>\n",
       "      <td>2020-09-18</td>\n",
       "      <td>2020</td>\n",
       "      <td>1</td>\n",
       "      <td>Protests</td>\n",
       "      <td>Peaceful protest</td>\n",
       "      <td>Protesters (Morocco)</td>\n",
       "      <td>...</td>\n",
       "      <td>Marrakech</td>\n",
       "      <td>31.6315</td>\n",
       "      <td>-8.0083</td>\n",
       "      <td>1</td>\n",
       "      <td>Hespress</td>\n",
       "      <td>National</td>\n",
       "      <td>On 18 September 2020, the \"Regional Associatio...</td>\n",
       "      <td>0</td>\n",
       "      <td>1600717737</td>\n",
       "      <td>MAR</td>\n",
       "    </tr>\n",
       "  </tbody>\n",
       "</table>\n",
       "<p>5 rows × 31 columns</p>\n",
       "</div>"
      ],
      "text/plain": [
       "   data_id  iso event_id_cnty event_id_no_cnty  event_date  year  \\\n",
       "0  7227931  504       MOR3240             3240  2020-09-18  2020   \n",
       "1  7227739  504       MOR3243             3243  2020-09-18  2020   \n",
       "2  7228082  504       MOR3239             3239  2020-09-18  2020   \n",
       "3  7227880  504       MOR3241             3241  2020-09-18  2020   \n",
       "4  7227882  504       MOR3242             3242  2020-09-18  2020   \n",
       "\n",
       "  time_precision event_type    sub_event_type                actor1  ...  \\\n",
       "0              1   Protests  Peaceful protest  Protesters (Morocco)  ...   \n",
       "1              1   Protests  Peaceful protest  Protesters (Morocco)  ...   \n",
       "2              1   Protests  Peaceful protest  Protesters (Morocco)  ...   \n",
       "3              2   Protests  Peaceful protest  Protesters (Morocco)  ...   \n",
       "4              1   Protests  Peaceful protest  Protesters (Morocco)  ...   \n",
       "\n",
       "               location latitude longitude geo_precision        source  \\\n",
       "0  El Kelaa des Sraghna  32.0512   -7.4108             1  Le Site Info   \n",
       "1                Midelt  32.6811   -4.7296             2      Achkayen   \n",
       "2            Bounaamane  29.5313   -9.8135             1  Tiznit Press   \n",
       "3               Kenitra  34.2610   -6.5802             1      Hespress   \n",
       "4             Marrakech  31.6315   -8.0083             1      Hespress   \n",
       "\n",
       "  source_scale                                              notes fatalities  \\\n",
       "0     National  On 18 September 2020, hundreds of merchants he...          0   \n",
       "1     National  On 18 September 2020, 300 members of the Tanou...          0   \n",
       "2  Subnational  On 18 September 2020, residents of the village...          0   \n",
       "3     National  Around 18 September 2020 (as reported), reside...          0   \n",
       "4     National  On 18 September 2020, the \"Regional Associatio...          0   \n",
       "\n",
       "    timestamp iso3  \n",
       "0  1600717737  MAR  \n",
       "1  1600717736  MAR  \n",
       "2  1600717737  MAR  \n",
       "3  1600717737  MAR  \n",
       "4  1600717737  MAR  \n",
       "\n",
       "[5 rows x 31 columns]"
      ]
     },
     "execution_count": 58,
     "metadata": {},
     "output_type": "execute_result"
    }
   ],
   "source": [
    "#convert it into an pandas data frame or just use your data structure and do more stuff\n",
    "morocco_res = pd.DataFrame(super_list) #creating new pandas data frame for the Morocco data\n",
    "morocco_res.head()"
   ]
  },
  {
   "cell_type": "markdown",
   "metadata": {},
   "source": [
    "### Do the right thing, take some time to look at the codebook and see what these columns are"
   ]
  },
  {
   "cell_type": "code",
   "execution_count": 59,
   "metadata": {},
   "outputs": [
    {
     "data": {
      "text/plain": [
       "Index(['data_id', 'iso', 'event_id_cnty', 'event_id_no_cnty', 'event_date',\n",
       "       'year', 'time_precision', 'event_type', 'sub_event_type', 'actor1',\n",
       "       'assoc_actor_1', 'inter1', 'actor2', 'assoc_actor_2', 'inter2',\n",
       "       'interaction', 'region', 'country', 'admin1', 'admin2', 'admin3',\n",
       "       'location', 'latitude', 'longitude', 'geo_precision', 'source',\n",
       "       'source_scale', 'notes', 'fatalities', 'timestamp', 'iso3'],\n",
       "      dtype='object')"
      ]
     },
     "execution_count": 59,
     "metadata": {},
     "output_type": "execute_result"
    }
   ],
   "source": [
    "morocco_res.columns\n"
   ]
  },
  {
   "cell_type": "markdown",
   "metadata": {},
   "source": [
    "### Homework --- Make a map of some ACLED Data (absolutely use the code from the Global Terrorism Database exercise)"
   ]
  },
  {
   "cell_type": "code",
   "execution_count": 62,
   "metadata": {},
   "outputs": [],
   "source": [
    "#Imports necessary aspects of Bokeh for plotting on a map\n",
    "from bokeh.tile_providers import get_provider, Vendors\n",
    "from pyproj import Transformer\n",
    "tile_provider = get_provider('STAMEN_TERRAIN')\n",
    "import math ##Pike - we will need to import math and some bokeh.plotting tools\n",
    "from bokeh.plotting import figure, output_notebook, show #builds interactive graphs for python"
   ]
  },
  {
   "cell_type": "code",
   "execution_count": 63,
   "metadata": {},
   "outputs": [],
   "source": [
    "# Take the data reduced to a country and get the lat/long of the attacks and the name of the group\n",
    "morocco_map = morocco_res[[\"latitude\", 'longitude', 'data_id']]"
   ]
  },
  {
   "cell_type": "code",
   "execution_count": 64,
   "metadata": {},
   "outputs": [
    {
     "name": "stderr",
     "output_type": "stream",
     "text": [
      "<ipython-input-64-5f9c7551347e>:4: SettingWithCopyWarning: \n",
      "A value is trying to be set on a copy of a slice from a DataFrame.\n",
      "Try using .loc[row_indexer,col_indexer] = value instead\n",
      "\n",
      "See the caveats in the documentation: https://pandas.pydata.org/pandas-docs/stable/user_guide/indexing.html#returning-a-view-versus-a-copy\n",
      "  morocco_map['latitude'] = morocco_map['latitude'].astype(float)\n",
      "<ipython-input-64-5f9c7551347e>:5: SettingWithCopyWarning: \n",
      "A value is trying to be set on a copy of a slice from a DataFrame.\n",
      "Try using .loc[row_indexer,col_indexer] = value instead\n",
      "\n",
      "See the caveats in the documentation: https://pandas.pydata.org/pandas-docs/stable/user_guide/indexing.html#returning-a-view-versus-a-copy\n",
      "  morocco_map['longitude'] = morocco_map['longitude'].astype(float)\n",
      "<ipython-input-64-5f9c7551347e>:6: SettingWithCopyWarning: \n",
      "A value is trying to be set on a copy of a slice from a DataFrame.\n",
      "Try using .loc[row_indexer,col_indexer] = value instead\n",
      "\n",
      "See the caveats in the documentation: https://pandas.pydata.org/pandas-docs/stable/user_guide/indexing.html#returning-a-view-versus-a-copy\n",
      "  morocco_map['data_id'] = morocco_map['data_id'].astype(float)\n"
     ]
    }
   ],
   "source": [
    "#PIKE - we need to convert the data in the Pandas data frame from strings to floats for mapping\n",
    "#we will get an error, but the code will still run\n",
    "\n",
    "morocco_map['latitude'] = morocco_map['latitude'].astype(float)\n",
    "morocco_map['longitude'] = morocco_map['longitude'].astype(float)\n",
    "morocco_map['data_id'] = morocco_map['data_id'].astype(float)\n"
   ]
  },
  {
   "cell_type": "code",
   "execution_count": 65,
   "metadata": {},
   "outputs": [],
   "source": [
    "#create pyproj transformer to convert form lat/long to web mercator\n",
    "transformer = Transformer.from_crs('epsg:4326','epsg:3857')"
   ]
  },
  {
   "cell_type": "code",
   "execution_count": 66,
   "metadata": {},
   "outputs": [
    {
     "data": {
      "text/plain": [
       "{}"
      ]
     },
     "execution_count": 66,
     "metadata": {},
     "output_type": "execute_result"
    }
   ],
   "source": [
    "#Pike - changed the names to match the niger_map data frame\n",
    "\n",
    "map_dict = {} # empty dictionary to track group attacks by lat long\n",
    "nan_count = {} # some data doesn't have a lat/long so we need to know what we are losing\n",
    "\n",
    "\n",
    "# Iterate through tables and associate group with lat/long\n",
    "for idx, row in morocco_map.iterrows():    \n",
    "    if row['data_id'] in map_dict.keys(): \n",
    "        if math.isnan(row[\"latitude\"]):\n",
    "            #This counts no data\n",
    "            if row['data_id'] in nan_count.keys(): \n",
    "                nan_count[row['data_id']] += 1 \n",
    "            else: \n",
    "                nan_count[row['data_id']] = 1\n",
    "        else: \n",
    "            #This has to convert the lat/long to a mercator projection \n",
    "            point = transformer.transform(row[\"latitude\"],row[\"longitude\"])\n",
    "            map_dict[row['data_id']].append([point[0],point[1]]) \n",
    "    #BOTH the if an else statement do the same thing but since it is a dictionary one needs to add the group name first\n",
    "    else:  \n",
    "        if math.isnan(row[\"latitude\"]):\n",
    "          nan_count[row['data_id']] = 1\n",
    "        else: \n",
    "            point = transformer.transform(row[\"latitude\"],row[\"longitude\"])\n",
    "            map_dict[row['data_id']] =[[point[0],point[1]]]\n",
    "        \n",
    "#This tells how many attacks we are losing\n",
    "nan_count    "
   ]
  },
  {
   "cell_type": "code",
   "execution_count": 68,
   "metadata": {},
   "outputs": [],
   "source": [
    "pts = [(27.4,-13.5), (36.1, -0.9)] #Pike - ensured this bounding box encapsulated all of Morocco\n",
    "bbox = []\n",
    "for pt in transformer.itransform(pts): \n",
    "    bbox.append(pt)\n"
   ]
  },
  {
   "cell_type": "code",
   "execution_count": 69,
   "metadata": {},
   "outputs": [],
   "source": [
    "NPA_x = []\n",
    "NPA_y = []\n",
    "for k,v in map_dict.items(): \n",
    "    for pt in v:\n",
    "        NPA_x.append(pt[0])\n",
    "        NPA_y.append(pt[1])"
   ]
  },
  {
   "cell_type": "code",
   "execution_count": 70,
   "metadata": {},
   "outputs": [],
   "source": [
    "#Plots the bounding box\n",
    "p = figure(x_range=(bbox[0][0], bbox[1][0]),y_range=(bbox[0][1], bbox[1][1]),x_axis_type=\"mercator\", y_axis_type=\"mercator\")\n",
    "#add the map form the Bokeh map vendor in this case Stamen_Terrain --- see documentation\n",
    "p.add_tile(tile_provider)\n",
    "# Places a circle for each converted lat/long attack \n",
    "p.circle(x = NPA_x, y = NPA_y, color= \"firebrick\")\n",
    "\n",
    "#shows the plot\n",
    "show(p)"
   ]
  },
  {
   "cell_type": "code",
   "execution_count": null,
   "metadata": {},
   "outputs": [],
   "source": [
    "##PIKE - running all this new code will correctly map the ACLED data for Morocco"
   ]
  }
 ],
 "metadata": {
  "kernelspec": {
   "display_name": "Python 3",
   "language": "python",
   "name": "python3"
  },
  "language_info": {
   "codemirror_mode": {
    "name": "ipython",
    "version": 3
   },
   "file_extension": ".py",
   "mimetype": "text/x-python",
   "name": "python",
   "nbconvert_exporter": "python",
   "pygments_lexer": "ipython3",
   "version": "3.8.3"
  }
 },
 "nbformat": 4,
 "nbformat_minor": 2
}
