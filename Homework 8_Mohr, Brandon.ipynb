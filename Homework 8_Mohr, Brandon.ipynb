{
 "cells": [
  {
   "cell_type": "code",
   "execution_count": 11,
   "metadata": {},
   "outputs": [],
   "source": [
    "# PIKE: I will analyze the data in blair-l's 'meetings' folder"
   ]
  },
  {
   "cell_type": "code",
   "execution_count": 12,
   "metadata": {},
   "outputs": [
    {
     "name": "stdout",
     "output_type": "stream",
     "text": [
      "Number of emails:  1120\n"
     ]
    }
   ],
   "source": [
    "# PIKE: First, I will read in the files from this folder and store their pathnames in a new list\n",
    "\n",
    "import os\n",
    "\n",
    "root_path = '/home/EDSE-brandmr-workspace/Enron_dataset/maildir/blair-l/meetings'\n",
    "\n",
    "count_emails = 0\n",
    "full_filepath = []\n",
    "\n",
    "for dirs, subdirs, files in os.walk(root_path):\n",
    "    count_emails += len(files)\n",
    "    for f in files:\n",
    "        full_filepath.append(os.path.join(dirs,f))\n",
    "\n",
    "print(\"Number of emails: \",len(full_filepath))"
   ]
  },
  {
   "cell_type": "code",
   "execution_count": 13,
   "metadata": {},
   "outputs": [],
   "source": [
    "# PIKE: Next, I will have the computer read through each of the emails from each filepath and pull out relevant data like\n",
    "# To, From, Subject, Date, and Body of the email and store them in a dictionary\n",
    "\n",
    "from email.parser import Parser\n",
    "\n",
    "to_read = \"\"\n",
    "emails_to = []\n",
    "emails_from = []\n",
    "emails_subject = []\n",
    "emails_body = []\n",
    "emails_path = []\n",
    "emails_date = []\n",
    "\n",
    "emails = {}\n",
    "i = -1\n",
    "\n",
    "for path in full_filepath:\n",
    "    i += 1\n",
    "    to_read = path\n",
    "    with open(to_read, \"r\") as f:\n",
    "        data = f.read()\n",
    "    email = Parser().parsestr(data)\n",
    "    to1 = email['to']\n",
    "    emails_to.append(to1)\n",
    "    if to1 is None:\n",
    "        to1 = \"To: N/A\"        \n",
    "    else:\n",
    "        to1 = \"To: \"+to1\n",
    "    from1 = email['from']\n",
    "    emails_from.append(from1)\n",
    "    from1 = \"From: \"+from1\n",
    "    subject1 = email['subject']\n",
    "    emails_subject.append(subject1)\n",
    "    if subject1 !=\"\":\n",
    "        subject1 = \"Subject: \"+subject1\n",
    "    else:\n",
    "        subject1 = \"Subject: N/A\"\n",
    "    date1 = email['date']\n",
    "    emails_date.append(date1)\n",
    "    date1 = \"Date: \"+date1\n",
    "    body1 = email.get_payload()\n",
    "    emails_body.append(body1)\n",
    "    body1 = \"Body: \"+body1\n",
    "    emails_path.append(path)\n",
    "    emails[i] = from1,to1,subject1,date1,\n",
    "    \n",
    "#(I know I never used the dictionary in this example, but I spent a lot of time to create it so I'm keeping it!)"
   ]
  },
  {
   "cell_type": "code",
   "execution_count": 21,
   "metadata": {},
   "outputs": [
    {
     "data": {
      "text/html": [
       "<div>\n",
       "<style scoped>\n",
       "    .dataframe tbody tr th:only-of-type {\n",
       "        vertical-align: middle;\n",
       "    }\n",
       "\n",
       "    .dataframe tbody tr th {\n",
       "        vertical-align: top;\n",
       "    }\n",
       "\n",
       "    .dataframe thead th {\n",
       "        text-align: right;\n",
       "    }\n",
       "</style>\n",
       "<table border=\"1\" class=\"dataframe\">\n",
       "  <thead>\n",
       "    <tr style=\"text-align: right;\">\n",
       "      <th></th>\n",
       "      <th>Path</th>\n",
       "      <th>Date</th>\n",
       "      <th>From</th>\n",
       "      <th>To</th>\n",
       "      <th>Subject</th>\n",
       "      <th>Body</th>\n",
       "    </tr>\n",
       "  </thead>\n",
       "  <tbody>\n",
       "    <tr>\n",
       "      <th>0</th>\n",
       "      <td>/home/EDSE-brandmr-workspace/Enron_dataset/mai...</td>\n",
       "      <td>Wed, 27 Jun 2001 16:02:00 -0700 (PDT)</td>\n",
       "      <td>outlook.team@enron.com</td>\n",
       "      <td>None</td>\n",
       "      <td>TMS Weekly Mtg. Conference room EB4102</td>\n",
       "      <td>CALENDAR ENTRY:\\tAPPOINTMENT\\n\\nDescription:\\n...</td>\n",
       "    </tr>\n",
       "    <tr>\n",
       "      <th>1</th>\n",
       "      <td>/home/EDSE-brandmr-workspace/Enron_dataset/mai...</td>\n",
       "      <td>Wed, 27 Jun 2001 16:02:00 -0700 (PDT)</td>\n",
       "      <td>outlook.team@enron.com</td>\n",
       "      <td>None</td>\n",
       "      <td>Ava-35842/Market Services Council Mtg. confere...</td>\n",
       "      <td>CALENDAR ENTRY:\\tAPPOINTMENT\\n\\nDescription:\\n...</td>\n",
       "    </tr>\n",
       "    <tr>\n",
       "      <th>2</th>\n",
       "      <td>/home/EDSE-brandmr-workspace/Enron_dataset/mai...</td>\n",
       "      <td>Wed, 27 Jun 2001 16:02:00 -0700 (PDT)</td>\n",
       "      <td>outlook.team@enron.com</td>\n",
       "      <td>None</td>\n",
       "      <td>Bob Gifford/Mobil/Exxon Audit Meeting EB3907</td>\n",
       "      <td>CALENDAR ENTRY:\\tAPPOINTMENT\\n\\nDescription:\\n...</td>\n",
       "    </tr>\n",
       "    <tr>\n",
       "      <th>3</th>\n",
       "      <td>/home/EDSE-brandmr-workspace/Enron_dataset/mai...</td>\n",
       "      <td>Wed, 27 Jun 2001 16:02:00 -0700 (PDT)</td>\n",
       "      <td>outlook.team@enron.com</td>\n",
       "      <td>None</td>\n",
       "      <td>Sheila Nacey &amp; Bob Martinez to meet in Lynn's ...</td>\n",
       "      <td>CALENDAR ENTRY:\\tAPPOINTMENT\\n\\nDescription:\\n...</td>\n",
       "    </tr>\n",
       "    <tr>\n",
       "      <th>4</th>\n",
       "      <td>/home/EDSE-brandmr-workspace/Enron_dataset/mai...</td>\n",
       "      <td>Wed, 27 Jun 2001 16:02:00 -0700 (PDT)</td>\n",
       "      <td>outlook.team@enron.com</td>\n",
       "      <td>None</td>\n",
       "      <td></td>\n",
       "      <td>CALENDAR ENTRY:\\tEVENT\\n\\nDescription:\\n\\t\\n\\n...</td>\n",
       "    </tr>\n",
       "  </tbody>\n",
       "</table>\n",
       "</div>"
      ],
      "text/plain": [
       "                                                Path  \\\n",
       "0  /home/EDSE-brandmr-workspace/Enron_dataset/mai...   \n",
       "1  /home/EDSE-brandmr-workspace/Enron_dataset/mai...   \n",
       "2  /home/EDSE-brandmr-workspace/Enron_dataset/mai...   \n",
       "3  /home/EDSE-brandmr-workspace/Enron_dataset/mai...   \n",
       "4  /home/EDSE-brandmr-workspace/Enron_dataset/mai...   \n",
       "\n",
       "                                    Date                    From    To  \\\n",
       "0  Wed, 27 Jun 2001 16:02:00 -0700 (PDT)  outlook.team@enron.com  None   \n",
       "1  Wed, 27 Jun 2001 16:02:00 -0700 (PDT)  outlook.team@enron.com  None   \n",
       "2  Wed, 27 Jun 2001 16:02:00 -0700 (PDT)  outlook.team@enron.com  None   \n",
       "3  Wed, 27 Jun 2001 16:02:00 -0700 (PDT)  outlook.team@enron.com  None   \n",
       "4  Wed, 27 Jun 2001 16:02:00 -0700 (PDT)  outlook.team@enron.com  None   \n",
       "\n",
       "                                             Subject  \\\n",
       "0             TMS Weekly Mtg. Conference room EB4102   \n",
       "1  Ava-35842/Market Services Council Mtg. confere...   \n",
       "2       Bob Gifford/Mobil/Exxon Audit Meeting EB3907   \n",
       "3  Sheila Nacey & Bob Martinez to meet in Lynn's ...   \n",
       "4                                                      \n",
       "\n",
       "                                                Body  \n",
       "0  CALENDAR ENTRY:\\tAPPOINTMENT\\n\\nDescription:\\n...  \n",
       "1  CALENDAR ENTRY:\\tAPPOINTMENT\\n\\nDescription:\\n...  \n",
       "2  CALENDAR ENTRY:\\tAPPOINTMENT\\n\\nDescription:\\n...  \n",
       "3  CALENDAR ENTRY:\\tAPPOINTMENT\\n\\nDescription:\\n...  \n",
       "4  CALENDAR ENTRY:\\tEVENT\\n\\nDescription:\\n\\t\\n\\n...  "
      ]
     },
     "execution_count": 21,
     "metadata": {},
     "output_type": "execute_result"
    }
   ],
   "source": [
    "#PIKE: Then I will create a pandas dataframe from the collected data\n",
    "# (this code pulled from geeksforgeeks.org/create-a-pandas-dataframe-from-lists/)\n",
    "\n",
    "import pandas as pd\n",
    "\n",
    "Emails_DataFrame = pd.DataFrame(list(zip(emails_path,emails_date,emails_from,emails_to,emails_subject,emails_body)),\n",
    "                               columns = [\"Path\",\"Date\",\"From\",\"To\",\"Subject\",\"Body\"])\n",
    "\n",
    "Emails_DataFrame.head()"
   ]
  },
  {
   "cell_type": "code",
   "execution_count": 38,
   "metadata": {},
   "outputs": [
    {
     "data": {
      "text/plain": [
       "{'Mon, 10 Sep 2001 20:59:49 -0700 (PDT)',\n",
       " 'Thu, 20 Sep 2001 08:18:34 -0700 (PDT)',\n",
       " 'Wed, 27 Jun 2001 16:02:00 -0700 (PDT)'}"
      ]
     },
     "execution_count": 38,
     "metadata": {},
     "output_type": "execute_result"
    }
   ],
   "source": [
    "#PIKE: Let's see when these emails were sent...\n",
    "\n",
    "unique_date = set(emails_date)\n",
    "unique_date"
   ]
  },
  {
   "cell_type": "code",
   "execution_count": 43,
   "metadata": {},
   "outputs": [
    {
     "data": {
      "text/plain": [
       "<matplotlib.axes._subplots.AxesSubplot at 0x7f234aa15be0>"
      ]
     },
     "execution_count": 43,
     "metadata": {},
     "output_type": "execute_result"
    },
    {
     "data": {
      "image/png": "[encoded data removed]",
      "text/plain": [
       "<Figure size 432x288 with 1 Axes>"
      ]
     },
     "metadata": {
      "needs_background": "light"
     },
     "output_type": "display_data"
    }
   ],
   "source": [
    "#PIKE: And then let's graph the distribution of these emails by date...\n",
    "# (this code is from https://stackoverflow.com/questions/28418988/how-to-make-histogram-from-a-list-of-strings-in-python)\n",
    "\n",
    "from collections import Counter\n",
    "\n",
    "email_date_counter = Counter(emails_date)\n",
    "\n",
    "email_date_counter_DF = pd.DataFrame.from_dict(email_date_counter, orient = 'index')\n",
    "email_date_counter_DF.plot(kind='bar')"
   ]
  },
  {
   "cell_type": "code",
   "execution_count": null,
   "metadata": {},
   "outputs": [],
   "source": [
    "#PIKE: And we see that the majority of the emails (by a considerable margin) are from the same date: 27 JUN 2001"
   ]
  }
 ],
 "metadata": {
  "kernelspec": {
   "display_name": "Python 3",
   "language": "python",
   "name": "python3"
  },
  "language_info": {
   "codemirror_mode": {
    "name": "ipython",
    "version": 3
   },
   "file_extension": ".py",
   "mimetype": "text/x-python",
   "name": "python",
   "nbconvert_exporter": "python",
   "pygments_lexer": "ipython3",
   "version": "3.8.3"
  }
 },
 "nbformat": 4,
 "nbformat_minor": 4
}
